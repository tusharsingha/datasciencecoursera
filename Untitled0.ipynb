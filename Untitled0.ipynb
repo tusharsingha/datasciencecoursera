{
  "nbformat": 4,
  "nbformat_minor": 0,
  "metadata": {
    "colab": {
      "provenance": [],
      "authorship_tag": "ABX9TyP25iGmYfArhgGb9E+VT0bc",
      "include_colab_link": true
    },
    "kernelspec": {
      "name": "python3",
      "display_name": "Python 3"
    },
    "language_info": {
      "name": "python"
    }
  },
  "cells": [
    {
      "cell_type": "markdown",
      "metadata": {
        "id": "view-in-github",
        "colab_type": "text"
      },
      "source": [
        "<a href=\"https://colab.research.google.com/github/tusharsingha/datasciencecoursera/blob/main/Untitled0.ipynb\" target=\"_parent\"><img src=\"https://colab.research.google.com/assets/colab-badge.svg\" alt=\"Open In Colab\"/></a>"
      ]
    },
    {
      "cell_type": "code",
      "execution_count": null,
      "metadata": {
        "id": "CnfXDCNZCiGM"
      },
      "outputs": [],
      "source": [
        "# Complete Google Colab Audio Trimming Script\n",
        "# Run this entire script at once in Colab\n",
        "\n",
        "# Step 1: Install required packages\n",
        "!pip install pydub\n",
        "\n",
        "# Step 2: Import necessary libraries\n",
        "from pydub import AudioSegment\n",
        "from google.colab import files\n",
        "import os\n",
        "\n",
        "# Step 3: Upload your audio file\n",
        "print(\"Please upload your audio file...\")\n",
        "uploaded = files.upload()  # This will prompt you to upload a file\n",
        "\n",
        "# Step 4: Get the filename of the uploaded file\n",
        "filename = list(uploaded.keys())[0]\n",
        "print(f\"File uploaded: {filename}\")\n",
        "\n",
        "# Step 5: Define clip start and end times (in minutes and seconds)\n",
        "start_min = 10\n",
        "start_sec = 0\n",
        "end_min = 12\n",
        "end_sec = 0\n",
        "\n",
        "# Convert to milliseconds\n",
        "start_time = (start_min * 60 + start_sec) * 1000\n",
        "end_time = (end_min * 60 + end_sec) * 1000\n",
        "\n",
        "# Step 6: Using direct FFmpeg command (more reliable method)\n",
        "print(f\"Trimming audio from {start_min}:{start_sec} to {end_min}:{end_sec}...\")\n",
        "start_seconds = start_min * 60 + start_sec\n",
        "duration_seconds = (end_min * 60 + end_sec) - start_seconds\n",
        "\n",
        "# Execute FFmpeg command directly\n",
        "!ffmpeg -i \"{filename}\" -ss {start_seconds} -t {duration_seconds} -c:a libmp3lame -q:a 2 \"trimmed_10min_to_12min.mp3\"\n",
        "\n",
        "# Check if file exists and download\n",
        "if os.path.exists(\"trimmed_10min_to_12min.mp3\"):\n",
        "    print(\"Trimming successful!\")\n",
        "    print(\"Downloading trimmed file...\")\n",
        "    files.download(\"trimmed_10min_to_12min.mp3\")\n",
        "else:\n",
        "    print(\"Failed to create output file. Trying alternative method...\")\n",
        "\n",
        "    # Alternative method using pydub\n",
        "    try:\n",
        "        # Load the audio file\n",
        "        audio = AudioSegment.from_file(filename)\n",
        "\n",
        "        # Trim the audio\n",
        "        trimmed_audio = audio[start_time:end_time]\n",
        "\n",
        "        # Export as MP3\n",
        "        output_filename = \"trimmed_10min_to_12min.mp3\"\n",
        "        trimmed_audio.export(output_filename, format=\"mp3\")\n",
        "        print(f\"Alternative method successful. Saved as {output_filename}\")\n",
        "\n",
        "        # Download the trimmed file\n",
        "        files.download(output_filename)\n",
        "    except Exception as e:\n",
        "        print(f\"Both methods failed: {e}\")\n",
        "        print(\"Try directly downloading a small portion using a more direct command:\")\n",
        "        !ffmpeg -i \"{filename}\" -ss {start_seconds} -t {duration_seconds} -acodec copy \"trimmed_direct.mp3\"\n",
        "        if os.path.exists(\"trimmed_direct.mp3\"):\n",
        "            files.download(\"trimmed_direct.mp3\")"
      ]
    }
  ]
}